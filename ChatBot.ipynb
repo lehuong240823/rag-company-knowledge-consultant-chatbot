{
  "nbformat": 4,
  "nbformat_minor": 0,
  "metadata": {
    "colab": {
      "provenance": [],
      "mount_file_id": "https://github.com/lehuong240823/rag-company-knowledge-consultant-chatbot/blob/main/ChatBot.ipynb",
      "authorship_tag": "ABX9TyPIUEqeZX7GOIwngJFs+RNp"
    },
    "kernelspec": {
      "name": "python3",
      "display_name": "Python 3"
    },
    "language_info": {
      "name": "python"
    },
    "widgets": {
      "application/vnd.jupyter.widget-state+json": {
        "6ea8ad78a9bc4699bcfff438d98d7f29": {
          "model_module": "@jupyter-widgets/controls",
          "model_name": "HBoxModel",
          "model_module_version": "1.5.0",
          "state": {
            "_dom_classes": [],
            "_model_module": "@jupyter-widgets/controls",
            "_model_module_version": "1.5.0",
            "_model_name": "HBoxModel",
            "_view_count": null,
            "_view_module": "@jupyter-widgets/controls",
            "_view_module_version": "1.5.0",
            "_view_name": "HBoxView",
            "box_style": "",
            "children": [
              "IPY_MODEL_2272a6705c844b72a974a669f72c9459",
              "IPY_MODEL_d6f681095ea04ea99d1d5e09eae1e9bb",
              "IPY_MODEL_c35cb9635dc844658044485e9f89c0e5"
            ],
            "layout": "IPY_MODEL_86850add01a243198755fe12af4109e6"
          }
        },
        "2272a6705c844b72a974a669f72c9459": {
          "model_module": "@jupyter-widgets/controls",
          "model_name": "HTMLModel",
          "model_module_version": "1.5.0",
          "state": {
            "_dom_classes": [],
            "_model_module": "@jupyter-widgets/controls",
            "_model_module_version": "1.5.0",
            "_model_name": "HTMLModel",
            "_view_count": null,
            "_view_module": "@jupyter-widgets/controls",
            "_view_module_version": "1.5.0",
            "_view_name": "HTMLView",
            "description": "",
            "description_tooltip": null,
            "layout": "IPY_MODEL_b311cdb2cccc42b2a27533fd787ef0c8",
            "placeholder": "​",
            "style": "IPY_MODEL_68c89f16592249aab84a5a1f0085c1d0",
            "value": ""
          }
        },
        "d6f681095ea04ea99d1d5e09eae1e9bb": {
          "model_module": "@jupyter-widgets/controls",
          "model_name": "FloatProgressModel",
          "model_module_version": "1.5.0",
          "state": {
            "_dom_classes": [],
            "_model_module": "@jupyter-widgets/controls",
            "_model_module_version": "1.5.0",
            "_model_name": "FloatProgressModel",
            "_view_count": null,
            "_view_module": "@jupyter-widgets/controls",
            "_view_module_version": "1.5.0",
            "_view_name": "ProgressView",
            "bar_style": "success",
            "description": "",
            "description_tooltip": null,
            "layout": "IPY_MODEL_957910d275084ce0a2411be320eaaa6b",
            "max": 1,
            "min": 0,
            "orientation": "horizontal",
            "style": "IPY_MODEL_114a8f81ac6c42309ce4941d31fe3f49",
            "value": 1
          }
        },
        "c35cb9635dc844658044485e9f89c0e5": {
          "model_module": "@jupyter-widgets/controls",
          "model_name": "HTMLModel",
          "model_module_version": "1.5.0",
          "state": {
            "_dom_classes": [],
            "_model_module": "@jupyter-widgets/controls",
            "_model_module_version": "1.5.0",
            "_model_name": "HTMLModel",
            "_view_count": null,
            "_view_module": "@jupyter-widgets/controls",
            "_view_module_version": "1.5.0",
            "_view_name": "HTMLView",
            "description": "",
            "description_tooltip": null,
            "layout": "IPY_MODEL_eebd253e270e4c38a04f9ce5e66c7f63",
            "placeholder": "​",
            "style": "IPY_MODEL_d79726eb0b1a42ceb298829aa95523de",
            "value": " 3/? [00:43&lt;00:00, 14.15s/it]"
          }
        },
        "86850add01a243198755fe12af4109e6": {
          "model_module": "@jupyter-widgets/base",
          "model_name": "LayoutModel",
          "model_module_version": "1.2.0",
          "state": {
            "_model_module": "@jupyter-widgets/base",
            "_model_module_version": "1.2.0",
            "_model_name": "LayoutModel",
            "_view_count": null,
            "_view_module": "@jupyter-widgets/base",
            "_view_module_version": "1.2.0",
            "_view_name": "LayoutView",
            "align_content": null,
            "align_items": null,
            "align_self": null,
            "border": null,
            "bottom": null,
            "display": null,
            "flex": null,
            "flex_flow": null,
            "grid_area": null,
            "grid_auto_columns": null,
            "grid_auto_flow": null,
            "grid_auto_rows": null,
            "grid_column": null,
            "grid_gap": null,
            "grid_row": null,
            "grid_template_areas": null,
            "grid_template_columns": null,
            "grid_template_rows": null,
            "height": null,
            "justify_content": null,
            "justify_items": null,
            "left": null,
            "margin": null,
            "max_height": null,
            "max_width": null,
            "min_height": null,
            "min_width": null,
            "object_fit": null,
            "object_position": null,
            "order": null,
            "overflow": null,
            "overflow_x": null,
            "overflow_y": null,
            "padding": null,
            "right": null,
            "top": null,
            "visibility": null,
            "width": null
          }
        },
        "b311cdb2cccc42b2a27533fd787ef0c8": {
          "model_module": "@jupyter-widgets/base",
          "model_name": "LayoutModel",
          "model_module_version": "1.2.0",
          "state": {
            "_model_module": "@jupyter-widgets/base",
            "_model_module_version": "1.2.0",
            "_model_name": "LayoutModel",
            "_view_count": null,
            "_view_module": "@jupyter-widgets/base",
            "_view_module_version": "1.2.0",
            "_view_name": "LayoutView",
            "align_content": null,
            "align_items": null,
            "align_self": null,
            "border": null,
            "bottom": null,
            "display": null,
            "flex": null,
            "flex_flow": null,
            "grid_area": null,
            "grid_auto_columns": null,
            "grid_auto_flow": null,
            "grid_auto_rows": null,
            "grid_column": null,
            "grid_gap": null,
            "grid_row": null,
            "grid_template_areas": null,
            "grid_template_columns": null,
            "grid_template_rows": null,
            "height": null,
            "justify_content": null,
            "justify_items": null,
            "left": null,
            "margin": null,
            "max_height": null,
            "max_width": null,
            "min_height": null,
            "min_width": null,
            "object_fit": null,
            "object_position": null,
            "order": null,
            "overflow": null,
            "overflow_x": null,
            "overflow_y": null,
            "padding": null,
            "right": null,
            "top": null,
            "visibility": null,
            "width": null
          }
        },
        "68c89f16592249aab84a5a1f0085c1d0": {
          "model_module": "@jupyter-widgets/controls",
          "model_name": "DescriptionStyleModel",
          "model_module_version": "1.5.0",
          "state": {
            "_model_module": "@jupyter-widgets/controls",
            "_model_module_version": "1.5.0",
            "_model_name": "DescriptionStyleModel",
            "_view_count": null,
            "_view_module": "@jupyter-widgets/base",
            "_view_module_version": "1.2.0",
            "_view_name": "StyleView",
            "description_width": ""
          }
        },
        "957910d275084ce0a2411be320eaaa6b": {
          "model_module": "@jupyter-widgets/base",
          "model_name": "LayoutModel",
          "model_module_version": "1.2.0",
          "state": {
            "_model_module": "@jupyter-widgets/base",
            "_model_module_version": "1.2.0",
            "_model_name": "LayoutModel",
            "_view_count": null,
            "_view_module": "@jupyter-widgets/base",
            "_view_module_version": "1.2.0",
            "_view_name": "LayoutView",
            "align_content": null,
            "align_items": null,
            "align_self": null,
            "border": null,
            "bottom": null,
            "display": null,
            "flex": null,
            "flex_flow": null,
            "grid_area": null,
            "grid_auto_columns": null,
            "grid_auto_flow": null,
            "grid_auto_rows": null,
            "grid_column": null,
            "grid_gap": null,
            "grid_row": null,
            "grid_template_areas": null,
            "grid_template_columns": null,
            "grid_template_rows": null,
            "height": null,
            "justify_content": null,
            "justify_items": null,
            "left": null,
            "margin": null,
            "max_height": null,
            "max_width": null,
            "min_height": null,
            "min_width": null,
            "object_fit": null,
            "object_position": null,
            "order": null,
            "overflow": null,
            "overflow_x": null,
            "overflow_y": null,
            "padding": null,
            "right": null,
            "top": null,
            "visibility": null,
            "width": "20px"
          }
        },
        "114a8f81ac6c42309ce4941d31fe3f49": {
          "model_module": "@jupyter-widgets/controls",
          "model_name": "ProgressStyleModel",
          "model_module_version": "1.5.0",
          "state": {
            "_model_module": "@jupyter-widgets/controls",
            "_model_module_version": "1.5.0",
            "_model_name": "ProgressStyleModel",
            "_view_count": null,
            "_view_module": "@jupyter-widgets/base",
            "_view_module_version": "1.2.0",
            "_view_name": "StyleView",
            "bar_color": null,
            "description_width": ""
          }
        },
        "eebd253e270e4c38a04f9ce5e66c7f63": {
          "model_module": "@jupyter-widgets/base",
          "model_name": "LayoutModel",
          "model_module_version": "1.2.0",
          "state": {
            "_model_module": "@jupyter-widgets/base",
            "_model_module_version": "1.2.0",
            "_model_name": "LayoutModel",
            "_view_count": null,
            "_view_module": "@jupyter-widgets/base",
            "_view_module_version": "1.2.0",
            "_view_name": "LayoutView",
            "align_content": null,
            "align_items": null,
            "align_self": null,
            "border": null,
            "bottom": null,
            "display": null,
            "flex": null,
            "flex_flow": null,
            "grid_area": null,
            "grid_auto_columns": null,
            "grid_auto_flow": null,
            "grid_auto_rows": null,
            "grid_column": null,
            "grid_gap": null,
            "grid_row": null,
            "grid_template_areas": null,
            "grid_template_columns": null,
            "grid_template_rows": null,
            "height": null,
            "justify_content": null,
            "justify_items": null,
            "left": null,
            "margin": null,
            "max_height": null,
            "max_width": null,
            "min_height": null,
            "min_width": null,
            "object_fit": null,
            "object_position": null,
            "order": null,
            "overflow": null,
            "overflow_x": null,
            "overflow_y": null,
            "padding": null,
            "right": null,
            "top": null,
            "visibility": null,
            "width": null
          }
        },
        "d79726eb0b1a42ceb298829aa95523de": {
          "model_module": "@jupyter-widgets/controls",
          "model_name": "DescriptionStyleModel",
          "model_module_version": "1.5.0",
          "state": {
            "_model_module": "@jupyter-widgets/controls",
            "_model_module_version": "1.5.0",
            "_model_name": "DescriptionStyleModel",
            "_view_count": null,
            "_view_module": "@jupyter-widgets/base",
            "_view_module_version": "1.2.0",
            "_view_name": "StyleView",
            "description_width": ""
          }
        }
      }
    }
  },
  "cells": [
    {
      "cell_type": "markdown",
      "source": [
        "# Get Started"
      ],
      "metadata": {
        "id": "20GrbDZgi1mj"
      }
    },
    {
      "cell_type": "code",
      "execution_count": null,
      "metadata": {
        "id": "QJQ8OZPL5war",
        "collapsed": true,
        "cellView": "form"
      },
      "outputs": [],
      "source": [
        "# @title Install Libraries\n",
        "!pip -q install pinecone\n",
        "!pip -q install langchain_community\n",
        "!pip -q install langchain_openai\n",
        "!pip -q install langchain_pinecone\n",
        "!pip -q install langchain-huggingface\n",
        "!pip -q install langsmith"
      ]
    },
    {
      "cell_type": "code",
      "source": [
        "# @title Import Libraries\n",
        "import os\n",
        "from google.colab import userdata\n",
        "from langchain.chains import RetrievalQA\n",
        "from langchain.document_loaders import TextLoader\n",
        "from langchain.prompts import PromptTemplate\n",
        "from langchain.text_splitter import CharacterTextSplitter\n",
        "from langchain_huggingface import HuggingFaceEndpointEmbeddings\n",
        "from langchain_openai import ChatOpenAI\n",
        "from langchain.prompts import load_prompt\n",
        "from langchain_pinecone import PineconeVectorStore\n",
        "from pinecone import Pinecone, ServerlessSpec\n",
        "from langsmith import Client, traceable\n",
        "import yaml\n",
        "import inspect\n",
        "import json"
      ],
      "metadata": {
        "id": "nRwdJs_82XKX",
        "cellView": "form"
      },
      "execution_count": null,
      "outputs": []
    },
    {
      "cell_type": "code",
      "source": [
        "# @title Set Environment Variables\n",
        "os.environ['HUGGINGFACEHUB_API_TOKEN'] = userdata.get('HF_TOKEN')\n",
        "os.environ['LANGSMITH_API_KEY'] = userdata.get('LANGSMITH_API_KEY')\n",
        "os.environ['LANGSMITH_ENDPOINT'] = 'https://api.smith.langchain.com'\n",
        "os.environ['LANGSMITH_PROJECT'] = userdata.get('PINECONE_INDEX_NAME')\n",
        "os.environ['LANGSMITH_TRACING'] = 'true'\n",
        "os.environ['OPENAI_API_BASE'] = 'https://openrouter.ai/api/v1'\n",
        "os.environ['OPENAI_API_KEY'] = userdata.get('OPENROUTER_API_KEY')\n",
        "os.environ['PINECONE_API_KEY'] = userdata.get('PINECONE_API_KEY')\n",
        "os.environ['PINECONE_INDEX_NAME'] = userdata.get('PINECONE_INDEX_NAME')"
      ],
      "metadata": {
        "id": "_SC-bUdQ15Aq"
      },
      "execution_count": null,
      "outputs": []
    },
    {
      "cell_type": "markdown",
      "source": [
        "# Method"
      ],
      "metadata": {
        "id": "tJUrQT_gZ5Z3"
      }
    },
    {
      "cell_type": "code",
      "source": [
        "# @title Get Pinecone Index\n",
        "def get_index(index_name=os.environ['PINECONE_INDEX_NAME']):\n",
        "  pc = Pinecone()\n",
        "  if not pc.has_index(index_name):\n",
        "    pc.create_index(\n",
        "        name=index_name,\n",
        "        dimension=4096,\n",
        "        metric=\"cosine\",\n",
        "        spec=ServerlessSpec(\n",
        "            cloud='aws',\n",
        "            region='us-east-1'\n",
        "        )\n",
        "    )\n",
        "\n",
        "  return pc.Index(index_name)"
      ],
      "metadata": {
        "id": "EwutUmxfMdsj",
        "cellView": "form"
      },
      "execution_count": null,
      "outputs": []
    },
    {
      "cell_type": "code",
      "source": [
        "# @title Text Splitter\n",
        "def init_text_splitter(chunk_size=1000, chunk_overlap=0):\n",
        "  return CharacterTextSplitter(chunk_size=chunk_size, chunk_overlap=chunk_overlap)"
      ],
      "metadata": {
        "id": "EraOySvvAa4p",
        "cellView": "form"
      },
      "execution_count": null,
      "outputs": []
    },
    {
      "cell_type": "code",
      "source": [
        "# @title Add Documents to Vector Store\n",
        "def add_documents(path):\n",
        "  loader = TextLoader(path)\n",
        "  documents = loader.load()\n",
        "  print(f\"Loaded {len(documents)} document(s) from {path}\")\n",
        "  docs = text_splitter.split_documents(documents)\n",
        "  vectorstore.add_documents(docs)\n",
        "  print(f\"Added {len(docs)} text chunk(s) to vector store.\")"
      ],
      "metadata": {
        "id": "WTe9PQ6I8fV4",
        "cellView": "form"
      },
      "execution_count": null,
      "outputs": []
    },
    {
      "cell_type": "code",
      "source": [
        "# @title Add Texts to Vector Store\n",
        "def add_texts(text):\n",
        "  texts = text_splitter.split_text(text)\n",
        "  vectorstore.add_texts(texts)\n",
        "  print(f\"Added {len(texts)} text chunks to vector store.\")"
      ],
      "metadata": {
        "id": "EU2XDErYCfLH",
        "cellView": "form"
      },
      "execution_count": null,
      "outputs": []
    },
    {
      "cell_type": "code",
      "source": [
        "# @title Initialize Components\n",
        "\n",
        "index = get_index()\n",
        "\n",
        "llm = ChatOpenAI(model='qwen/qwen3-8b:free')\n",
        "\n",
        "embeddings = HuggingFaceEndpointEmbeddings(model='Qwen/Qwen3-Embedding-8B')\n",
        "\n",
        "vectorstore = PineconeVectorStore(index=index, embedding=embeddings)\n",
        "\n",
        "text_splitter = init_text_splitter()\n",
        "\n",
        "retriever = vectorstore.as_retriever(k=6)\n",
        "\n",
        "qa_chain = RetrievalQA.from_chain_type(\n",
        "  llm,\n",
        "  retriever=retriever,\n",
        "  return_source_documents=True\n",
        ")"
      ],
      "metadata": {
        "id": "KCuTVFQOp-z_"
      },
      "execution_count": null,
      "outputs": []
    },
    {
      "cell_type": "markdown",
      "source": [
        "# Evaluators"
      ],
      "metadata": {
        "id": "275hVmB1dD74"
      }
    },
    {
      "cell_type": "code",
      "metadata": {
        "colab": {
          "base_uri": "https://localhost:8080/"
        },
        "id": "c9fc54bb",
        "outputId": "aa8a8480-a2d2-4564-d42b-0b9e13e61539"
      },
      "source": [
        "query = \"công ty này ở phường nào\"\n",
        "response = qa_chain.invoke({\"query\": query})\n",
        "\n",
        "print(response['source_documents'])"
      ],
      "execution_count": null,
      "outputs": [
        {
          "output_type": "stream",
          "name": "stdout",
          "text": [
            "[Document(id='46b8f2d3-955d-4652-82d6-b98c9b66f8ac', metadata={'source': '/content/drive/MyDrive/Colab Notebooks/public/RAG_ChatBot/dataset/introduction.txt'}, page_content='Mã số thuế\\t\\n2301025890 - Ngày cấp: 17/04/2018\\nTên đơn vị\\t\\nCÔNG TY TNHH THƯƠNG MẠI VÀ ĐẦU TƯ TỔNG HỢP ANH PHÁT\\nĐịa chỉ theo CQT\\t\\nNR ông Nguyễn Văn Trường, xóm Rừng, khu Bồ Sơn, Phường Võ Cường, Tỉnh Bắc Ninh, Việt Nam\\nĐịa chỉ sau sáp nhập\\t\\nHệ thống tìm thấy 1 kết quả địa chỉ mới liên quan của MST 2301025890:\\n\\n- Địa chỉ 1: NR ông Nguyễn Văn Trường, xóm Rừng, khu Bồ Sơn, Phường Võ Cường, Tỉnh Bắc Ninh, Việt Nam\\n\\n- Căn cứ:\\n\\nPhường Võ Cường: Sắp xếp toàn bộ diện tích tự nhiên, quy mô dân số của các phường Đại Phúc, Phong Khê và Võ Cường thành phường mới có tên gọi là phường Võ Cường.\\n(Thông tin mang tính tham khảo, để có thông tin chính xác vui lòng tra cứu từ website của Cục thuế hoặc Cổng thông tin doanh nghiệp quốc gia trước khi lập/xuất hóa đơn, chứng từ điện tử)\\n\\nTrạng thái\\tNNT đang hoạt động\\nCơ quan thuế quản lý\\tThuế cơ sở 7 tỉnh Bắc Ninh - Mã CQT: 22301\\nPP tính thuế GTGT\\tPhương pháp khấu trừ\\nChương – Khoản\\t855 - 194\\nNgười đại diện theo pháp luật\\t\\nNguyễn Đình Anh'), Document(id='f49d6208-d8fd-473b-b008-62c864840ab6', metadata={'source': '/content/drive/MyDrive/Colab Notebooks/public/RAG_ChatBot/dataset/introduction.txt'}, page_content='Ngành nghề chính\\tBán buôn thiết bị và linh kiện điện tử, viễn thông(Xem danh sách)')]\n"
          ]
        }
      ]
    },
    {
      "cell_type": "code",
      "source": [
        "root_path =  userdata.get('ROOT_PATH')\n",
        "dataset_path = f'{root_path}/datasets'\n",
        "evaluators_path = f'{root_path}/evaluators'"
      ],
      "metadata": {
        "id": "KOuHSiwe9uZ_"
      },
      "execution_count": null,
      "outputs": []
    },
    {
      "cell_type": "code",
      "source": [
        "dataset_name='FQA'\n",
        "client = Client()\n",
        "\n",
        "examples = json.load(open(f'{dataset_path}/evaluation.json'))\n",
        "\n",
        "if not client.has_dataset(dataset_name=dataset_name):\n",
        "  dataset = client.create_dataset(dataset_name=dataset_name)\n",
        "  client.create_examples(\n",
        "      dataset_id=dataset.id,\n",
        "      examples=examples\n",
        "  )\n"
      ],
      "metadata": {
        "id": "U-1Y-AuQjRNl",
        "collapsed": true
      },
      "execution_count": null,
      "outputs": []
    },
    {
      "cell_type": "code",
      "source": [
        "def init_grader_llm(model='qwen/qwen3-8b:free', temperature=0, scope=None):\n",
        "  return ChatOpenAI(model=model, temperature=temperature).with_structured_output(\n",
        "    yaml.safe_load(open(f'{evaluators_path}/{scope}/output_schema.yaml')),\n",
        "    method='json_schema', strict=True\n",
        "  )"
      ],
      "metadata": {
        "id": "EMr6Xf8SnsEt"
      },
      "execution_count": null,
      "outputs": []
    },
    {
      "cell_type": "code",
      "source": [
        "# @title Correctness\n",
        "correctness_path=f'{evaluators_path}/correctness'\n",
        "\n",
        "\n",
        "\n",
        "def correctness(inputs: dict, outputs: dict, reference_outputs: dict) -> bool:\n",
        "  \"\"\"An evaluator for RAG answer accuracy\"\"\"\n",
        "  grader_llm = ChatOpenAI(model='qwen/qwen3-8b:free', temperature=0).with_structured_output(\n",
        "    yaml.safe_load(open(f'{correctness_path}/output_schema.yaml')),\n",
        "    method=\"json_schema\", strict=True\n",
        "  )\n",
        "\n",
        "  instructions = load_prompt(f'{correctness_path}/system_prompt.yaml').format()\n",
        "\n",
        "  answers = load_prompt(f'{correctness_path}/user_prompt.yaml').format(\n",
        "    question=inputs['question'],\n",
        "    reference=reference_outputs['answer'],\n",
        "    answer=outputs['answer']\n",
        "  )\n",
        "\n",
        "  grade = grader_llm.invoke([\n",
        "    {\"role\": \"system\", \"content\": instructions},\n",
        "    {\"role\": \"user\", \"content\": answers}\n",
        "  ])\n",
        "  return grade[\"correct\"]\n"
      ],
      "metadata": {
        "id": "vi1zoF_NfyRF"
      },
      "execution_count": null,
      "outputs": []
    },
    {
      "cell_type": "code",
      "source": [
        "# Add decorator so this function is traced in LangSmith\n",
        "@traceable()\n",
        "def rag_bot(question: str) -> dict:\n",
        "\n",
        "  instructions = f\"\"\"You are a helpful assistant who is good at analyzing source information and answering questions.\n",
        "      Use the following source documents to answer the user's questions.\n",
        "      If you don't know the answer, just say that you don't know.\n",
        "      Use three sentences maximum and keep the answer concise.\n",
        "\n",
        "\"\"\"\n",
        "  # langchain ChatModel will be automatically traced\n",
        "  ai_msg = qa_chain.invoke([\n",
        "          {\"role\": \"system\", \"content\": instructions},\n",
        "          {\"role\": \"user\", \"content\": question},\n",
        "      ],\n",
        "  )\n",
        "  return {\"answer\": ai_msg['result'], \"documents\": ai_msg['source_documents']}"
      ],
      "metadata": {
        "id": "46aanRpmFDYw"
      },
      "execution_count": null,
      "outputs": []
    },
    {
      "cell_type": "code",
      "source": [
        "def target(inputs: dict) -> dict:\n",
        "    return rag_bot(inputs[\"question\"])"
      ],
      "metadata": {
        "id": "-QQeOqYXEx6y"
      },
      "execution_count": null,
      "outputs": []
    },
    {
      "cell_type": "code",
      "source": [
        "experiment_results = client.evaluate(\n",
        "    target,\n",
        "    data='FQA',\n",
        "    evaluators=[correctness],#, groundedness, relevance, retrieval_relevance],\n",
        "    experiment_prefix=\"rag-doc-relevance\"\n",
        ")"
      ],
      "metadata": {
        "colab": {
          "base_uri": "https://localhost:8080/",
          "height": 190,
          "referenced_widgets": [
            "6ea8ad78a9bc4699bcfff438d98d7f29",
            "2272a6705c844b72a974a669f72c9459",
            "d6f681095ea04ea99d1d5e09eae1e9bb",
            "c35cb9635dc844658044485e9f89c0e5",
            "86850add01a243198755fe12af4109e6",
            "b311cdb2cccc42b2a27533fd787ef0c8",
            "68c89f16592249aab84a5a1f0085c1d0",
            "957910d275084ce0a2411be320eaaa6b",
            "114a8f81ac6c42309ce4941d31fe3f49",
            "eebd253e270e4c38a04f9ce5e66c7f63",
            "d79726eb0b1a42ceb298829aa95523de"
          ]
        },
        "id": "Iqy-K-Qtwp3R",
        "outputId": "a3f40427-732f-4152-e531-37c2660424f0"
      },
      "execution_count": null,
      "outputs": [
        {
          "output_type": "stream",
          "name": "stdout",
          "text": [
            "View the evaluation results for experiment: 'rag-doc-relevance-46bb454b' at:\n",
            "https://smith.langchain.com/o/00fa7863-e8c4-446a-9682-0dec08610f9c/datasets/ae8be8f8-25cb-40c3-aeae-5ef8b9c93069/compare?selectedSessions=1c1bb288-086d-4afe-8fa1-0d33c0c0957f\n",
            "\n",
            "\n"
          ]
        },
        {
          "output_type": "display_data",
          "data": {
            "text/plain": [
              "0it [00:00, ?it/s]"
            ],
            "application/vnd.jupyter.widget-view+json": {
              "version_major": 2,
              "version_minor": 0,
              "model_id": "6ea8ad78a9bc4699bcfff438d98d7f29"
            }
          },
          "metadata": {}
        },
        {
          "output_type": "stream",
          "name": "stdout",
          "text": [
            "{'query': 'What are the types of biases that can arise with few-shot prompting?', 'result': \"The information provided in the context is about a company's tax registration details in Vietnam and does not contain any content related to machine learning, biases, or few-shot prompting. Therefore, I cannot answer the question based on the given context. If you have other questions about the company or its information, I can assist with that.\", 'source_documents': [Document(id='46b8f2d3-955d-4652-82d6-b98c9b66f8ac', metadata={'source': '/content/drive/MyDrive/Colab Notebooks/public/RAG_ChatBot/dataset/introduction.txt'}, page_content='Mã số thuế\\t\\n2301025890 - Ngày cấp: 17/04/2018\\nTên đơn vị\\t\\nCÔNG TY TNHH THƯƠNG MẠI VÀ ĐẦU TƯ TỔNG HỢP ANH PHÁT\\nĐịa chỉ theo CQT\\t\\nNR ông Nguyễn Văn Trường, xóm Rừng, khu Bồ Sơn, Phường Võ Cường, Tỉnh Bắc Ninh, Việt Nam\\nĐịa chỉ sau sáp nhập\\t\\nHệ thống tìm thấy 1 kết quả địa chỉ mới liên quan của MST 2301025890:\\n\\n- Địa chỉ 1: NR ông Nguyễn Văn Trường, xóm Rừng, khu Bồ Sơn, Phường Võ Cường, Tỉnh Bắc Ninh, Việt Nam\\n\\n- Căn cứ:\\n\\nPhường Võ Cường: Sắp xếp toàn bộ diện tích tự nhiên, quy mô dân số của các phường Đại Phúc, Phong Khê và Võ Cường thành phường mới có tên gọi là phường Võ Cường.\\n(Thông tin mang tính tham khảo, để có thông tin chính xác vui lòng tra cứu từ website của Cục thuế hoặc Cổng thông tin doanh nghiệp quốc gia trước khi lập/xuất hóa đơn, chứng từ điện tử)\\n\\nTrạng thái\\tNNT đang hoạt động\\nCơ quan thuế quản lý\\tThuế cơ sở 7 tỉnh Bắc Ninh - Mã CQT: 22301\\nPP tính thuế GTGT\\tPhương pháp khấu trừ\\nChương – Khoản\\t855 - 194\\nNgười đại diện theo pháp luật\\t\\nNguyễn Đình Anh'), Document(id='f49d6208-d8fd-473b-b008-62c864840ab6', metadata={'source': '/content/drive/MyDrive/Colab Notebooks/public/RAG_ChatBot/dataset/introduction.txt'}, page_content='Ngành nghề chính\\tBán buôn thiết bị và linh kiện điện tử, viễn thông(Xem danh sách)')]}\n",
            "{'query': 'What are five types of adversarial attacks?', 'result': \"The provided context contains information about a company's tax details, including its name, tax code, address, and legal representative. It does not mention anything related to adversarial attacks or cybersecurity concepts. Therefore, I cannot answer the question based on the given context. \\n\\nIf you have additional information or context about adversarial attacks, feel free to share it, and I’ll do my best to help!\", 'source_documents': [Document(id='46b8f2d3-955d-4652-82d6-b98c9b66f8ac', metadata={'source': '/content/drive/MyDrive/Colab Notebooks/public/RAG_ChatBot/dataset/introduction.txt'}, page_content='Mã số thuế\\t\\n2301025890 - Ngày cấp: 17/04/2018\\nTên đơn vị\\t\\nCÔNG TY TNHH THƯƠNG MẠI VÀ ĐẦU TƯ TỔNG HỢP ANH PHÁT\\nĐịa chỉ theo CQT\\t\\nNR ông Nguyễn Văn Trường, xóm Rừng, khu Bồ Sơn, Phường Võ Cường, Tỉnh Bắc Ninh, Việt Nam\\nĐịa chỉ sau sáp nhập\\t\\nHệ thống tìm thấy 1 kết quả địa chỉ mới liên quan của MST 2301025890:\\n\\n- Địa chỉ 1: NR ông Nguyễn Văn Trường, xóm Rừng, khu Bồ Sơn, Phường Võ Cường, Tỉnh Bắc Ninh, Việt Nam\\n\\n- Căn cứ:\\n\\nPhường Võ Cường: Sắp xếp toàn bộ diện tích tự nhiên, quy mô dân số của các phường Đại Phúc, Phong Khê và Võ Cường thành phường mới có tên gọi là phường Võ Cường.\\n(Thông tin mang tính tham khảo, để có thông tin chính xác vui lòng tra cứu từ website của Cục thuế hoặc Cổng thông tin doanh nghiệp quốc gia trước khi lập/xuất hóa đơn, chứng từ điện tử)\\n\\nTrạng thái\\tNNT đang hoạt động\\nCơ quan thuế quản lý\\tThuế cơ sở 7 tỉnh Bắc Ninh - Mã CQT: 22301\\nPP tính thuế GTGT\\tPhương pháp khấu trừ\\nChương – Khoản\\t855 - 194\\nNgười đại diện theo pháp luật\\t\\nNguyễn Đình Anh'), Document(id='f49d6208-d8fd-473b-b008-62c864840ab6', metadata={'source': '/content/drive/MyDrive/Colab Notebooks/public/RAG_ChatBot/dataset/introduction.txt'}, page_content='Ngành nghề chính\\tBán buôn thiết bị và linh kiện điện tử, viễn thông(Xem danh sách)')]}\n",
            "{'query': 'How does the ReAct agent use self-reflection? ', 'result': \"The provided context does not contain any information related to the ReAct agent or its use of self-reflection. It only includes details about a company's tax registration and business information. If you have a different question or need clarification on the company's data, feel free to ask!\", 'source_documents': [Document(id='46b8f2d3-955d-4652-82d6-b98c9b66f8ac', metadata={'source': '/content/drive/MyDrive/Colab Notebooks/public/RAG_ChatBot/dataset/introduction.txt'}, page_content='Mã số thuế\\t\\n2301025890 - Ngày cấp: 17/04/2018\\nTên đơn vị\\t\\nCÔNG TY TNHH THƯƠNG MẠI VÀ ĐẦU TƯ TỔNG HỢP ANH PHÁT\\nĐịa chỉ theo CQT\\t\\nNR ông Nguyễn Văn Trường, xóm Rừng, khu Bồ Sơn, Phường Võ Cường, Tỉnh Bắc Ninh, Việt Nam\\nĐịa chỉ sau sáp nhập\\t\\nHệ thống tìm thấy 1 kết quả địa chỉ mới liên quan của MST 2301025890:\\n\\n- Địa chỉ 1: NR ông Nguyễn Văn Trường, xóm Rừng, khu Bồ Sơn, Phường Võ Cường, Tỉnh Bắc Ninh, Việt Nam\\n\\n- Căn cứ:\\n\\nPhường Võ Cường: Sắp xếp toàn bộ diện tích tự nhiên, quy mô dân số của các phường Đại Phúc, Phong Khê và Võ Cường thành phường mới có tên gọi là phường Võ Cường.\\n(Thông tin mang tính tham khảo, để có thông tin chính xác vui lòng tra cứu từ website của Cục thuế hoặc Cổng thông tin doanh nghiệp quốc gia trước khi lập/xuất hóa đơn, chứng từ điện tử)\\n\\nTrạng thái\\tNNT đang hoạt động\\nCơ quan thuế quản lý\\tThuế cơ sở 7 tỉnh Bắc Ninh - Mã CQT: 22301\\nPP tính thuế GTGT\\tPhương pháp khấu trừ\\nChương – Khoản\\t855 - 194\\nNgười đại diện theo pháp luật\\t\\nNguyễn Đình Anh'), Document(id='f49d6208-d8fd-473b-b008-62c864840ab6', metadata={'source': '/content/drive/MyDrive/Colab Notebooks/public/RAG_ChatBot/dataset/introduction.txt'}, page_content='Ngành nghề chính\\tBán buôn thiết bị và linh kiện điện tử, viễn thông(Xem danh sách)')]}\n"
          ]
        }
      ]
    }
  ]
}